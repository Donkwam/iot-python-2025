{
 "cells": [
  {
   "cell_type": "markdown",
   "metadata": {},
   "source": [
    "## 1번 \n",
    "\n",
    "#### 반지름 구하는 방법"
   ]
  },
  {
   "cell_type": "code",
   "execution_count": 18,
   "metadata": {},
   "outputs": [
    {
     "ename": "TypeError",
     "evalue": "'int' object is not callable",
     "output_type": "error",
     "traceback": [
      "\u001b[1;31m---------------------------------------------------------------------------\u001b[0m",
      "\u001b[1;31mTypeError\u001b[0m                                 Traceback (most recent call last)",
      "Cell \u001b[1;32mIn[18], line 7\u001b[0m\n\u001b[0;32m      3\u001b[0m radius \u001b[38;5;241m=\u001b[39m \u001b[38;5;28mfloat\u001b[39m(radius)\n\u001b[0;32m      6\u001b[0m \u001b[38;5;66;03m# radius=float(input('반지름 값을 입력하세요.'))\u001b[39;00m\n\u001b[1;32m----> 7\u001b[0m \u001b[38;5;28;43mprint\u001b[39;49m\u001b[43m(\u001b[49m\u001b[38;5;124;43mf\u001b[39;49m\u001b[38;5;124;43m'\u001b[39;49m\u001b[38;5;132;43;01m{\u001b[39;49;00m\u001b[43mradius\u001b[49m\u001b[38;5;250;43m \u001b[39;49m\u001b[38;5;241;43m*\u001b[39;49m\u001b[38;5;250;43m \u001b[39;49m\u001b[43mradius\u001b[49m\u001b[38;5;250;43m \u001b[39;49m\u001b[38;5;241;43m*\u001b[39;49m\u001b[38;5;250;43m \u001b[39;49m\u001b[43mpi\u001b[49m\u001b[38;5;132;43;01m}\u001b[39;49;00m\u001b[38;5;124;43m'\u001b[39;49m\u001b[43m)\u001b[49m\n",
      "\u001b[1;31mTypeError\u001b[0m: 'int' object is not callable"
     ]
    }
   ],
   "source": [
    "from math import *\n",
    "radius = input('반지름 값을 입력하세요.')\n",
    "radius = float(radius)\n",
    "\n",
    "\n",
    "# radius=float(input('반지름 값을 입력하세요.'))\n",
    "print(f'{radius * radius * pi}')"
   ]
  },
  {
   "cell_type": "markdown",
   "metadata": {},
   "source": [
    "## 2번 \n",
    "\n",
    "##### 영문이름"
   ]
  },
  {
   "cell_type": "code",
   "execution_count": null,
   "metadata": {},
   "outputs": [],
   "source": [
    "Web_site = input('웹사이트 영문이름을 작성하세요.')\n",
    "print(f'원하시는 웹사이트는 www.{Web_site}.com 입니다.')"
   ]
  },
  {
   "cell_type": "markdown",
   "metadata": {},
   "source": [
    "## 3번\n",
    "\n",
    "##### 구구단"
   ]
  },
  {
   "cell_type": "code",
   "execution_count": 2,
   "metadata": {},
   "outputs": [
    {
     "name": "stdout",
     "output_type": "stream",
     "text": [
      "7 14 21 28 35 42 49 56 63 "
     ]
    }
   ],
   "source": [
    "rnrneks =int(input('구구단을 입력하세요'))\n",
    "for i in range(1,10):\n",
    "    print(rnrneks*int(i), end=' ')"
   ]
  },
  {
   "cell_type": "markdown",
   "metadata": {},
   "source": [
    "## 4번\n",
    "\n",
    "##### 큰 값부터 순서대로 나열"
   ]
  },
  {
   "cell_type": "code",
   "execution_count": 4,
   "metadata": {},
   "outputs": [
    {
     "name": "stdout",
     "output_type": "stream",
     "text": [
      "<class 'list'>\n",
      "[555, 545, 321, 51, 36, 10]\n"
     ]
    }
   ],
   "source": [
    "one_num = list(map(int,input('숫자를 입력하세요').split()))\n",
    "print(type(one_num))\n",
    "one_num.sort(reverse=True)\n",
    "print(one_num)"
   ]
  },
  {
   "cell_type": "markdown",
   "metadata": {},
   "source": [
    "## 5번\n",
    "\n",
    "##### 자기 휴대전화기를 출력하세요."
   ]
  },
  {
   "cell_type": "code",
   "execution_count": 5,
   "metadata": {},
   "outputs": [
    {
     "name": "stdout",
     "output_type": "stream",
     "text": [
      "이 휴대전화으의 주인은 ㅁㄴㅇ이고, ㅁㄴㅇ에서 만들어졌으며, 전화번호는 ㅁㄴㅇ입니다\n"
     ]
    }
   ],
   "source": [
    "class SmartPhone:\n",
    "    def __init__(self, phoneOwner=None, phoneNumber=None,company=None):\n",
    "        self.phoneOwner = phoneOwner\n",
    "        self.phoneNumber = phoneNumber\n",
    "        self.company = company\n",
    "\n",
    "    def __str__(self):\n",
    "            return f'이 휴대전화으의 주인은 {self.phoneOwner}이고, {self.company}에서 만들어졌으며, 전화번호는 {self.phoneNumber}입니다'\n",
    "\n",
    "a,b,c = input('휴대폰 정보를 입력하세요.').split()\n",
    "myown = SmartPhone(a, b, c)\n",
    "print(myown)"
   ]
  }
 ],
 "metadata": {
  "kernelspec": {
   "display_name": "Python 3",
   "language": "python",
   "name": "python3"
  },
  "language_info": {
   "codemirror_mode": {
    "name": "ipython",
    "version": 3
   },
   "file_extension": ".py",
   "mimetype": "text/x-python",
   "name": "python",
   "nbconvert_exporter": "python",
   "pygments_lexer": "ipython3",
   "version": "3.11.9"
  }
 },
 "nbformat": 4,
 "nbformat_minor": 2
}
